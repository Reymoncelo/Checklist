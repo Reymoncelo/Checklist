{
 "cells": [
  {
   "cell_type": "markdown",
   "metadata": {},
   "source": [
    "#### ⏰ Até 15/02 ⏰ 1ª FASE - EXTRAÇÃO DOS DADOS DA ESCALA DE SERVIÇO "
   ]
  },
  {
   "cell_type": "code",
   "execution_count": null,
   "metadata": {},
   "outputs": [],
   "source": [
    "from docx import Document\n",
    "import pandas as pd\n",
    "\n",
    "# função que abre e extrai todas as tabelas de um docx\n",
    "def extrair_tabelas(caminhoDocx):\n",
    "    todasTabelas = []\n",
    "\n",
    "    doc = Document(caminhoDocx)\n",
    "    \n",
    "    for tabela_idx, tabela in enumerate(doc.tables):\n",
    "        tabelaAtual = []\n",
    "        \n",
    "        for row_idx, row in enumerate(tabela.rows):\n",
    "            cells = [cell.text.strip() for cell in row.cells]\n",
    "            tabelaAtual.append(cells)\n",
    "\n",
    "        todasTabelas.append(tabelaAtual)\n",
    "\n",
    "    return todasTabelas\n",
    "\n",
    "# coloca o nome do docx\n",
    "tabelas = extrair_tabelas('08.02.2024 ESCALA DE SERVIÇO - QUINTA-FEIRA.docx')\n",
    "\n",
    "# criação dos DataFrames a partir da extração em docx\n",
    "for idx, tabela in enumerate(tabelas):\n",
    "    dfEquipes = pd.DataFrame(tabela)\n",
    "    display(dfEquipes)    \n",
    "  \n",
    "\n",
    "\n",
    "\n",
    "# DESCONSIDERE A PARTIR DESTA LINHA - SÃO FRAGMENTOS DE CÓDIGOS USADOS APENAS PARA FAZER TESTE\n",
    "    \n",
    "# from tabula import read_pdf, convert_into\n",
    "# import pandas as pd\n",
    "\n",
    "# # # #conversão de arquivos PDF\n",
    "# # convert_into('CPU_1QTU.pdf', 'livro_1QTU', pages='all', output_format='csv', stream=True)\n",
    "# # convert_into('CPU_2QTU.pdf', 'livro_2QTU', pages='all', output_format='csv', stream=True)\n",
    "# # convert_into('EscalaServico.pdf', 'escala', pages='all', output_format='csv', stream=True)\n",
    "\n",
    "\n",
    "# tabelaEscalaAtual = read_pdf(\"EscalaServico.pdf\", pages=\"all\")\n",
    "# # print(len(lista_tabelas)) - apenas informa a quantidade de tabelas \n",
    "# for tabela in tabelaEscalaAtual:\n",
    "#     display(tabela)\n",
    "\n",
    "# # Extração da Escala do Livro do CPU - 1º QTU e 2º QTU\n",
    "# tabelasEscalaNova = read_pdf('EscalaServico_NovoModelo.pdf', pages='all')\n",
    "# for tabela in tabelasEscalaNova:\n",
    "#     display(tabela)\n",
    "\n",
    "\n"
   ]
  },
  {
   "cell_type": "markdown",
   "metadata": {},
   "source": [
    "#### ⏰ Até 20/02 ⏰ 2ª FASE - EXTRAÇÃO DOS DADOS DO CHECKLIST "
   ]
  },
  {
   "cell_type": "markdown",
   "metadata": {},
   "source": [
    "#### ⏰ Até 25/02 ⏰ 3ª FASE - COMPARAÇÃO DADOS DA ESCALA E CHECKLIST EXECUTADOS "
   ]
  },
  {
   "cell_type": "markdown",
   "metadata": {},
   "source": [
    "#### ⏰ Até 1ª/03 ⏰ 4ª FASE - RELATÓRIO AO CHEFE DA 4ª SEÇÃO "
   ]
  }
 ],
 "metadata": {
  "kernelspec": {
   "display_name": "Python 3",
   "language": "python",
   "name": "python3"
  },
  "language_info": {
   "codemirror_mode": {
    "name": "ipython",
    "version": 3
   },
   "file_extension": ".py",
   "mimetype": "text/x-python",
   "name": "python",
   "nbconvert_exporter": "python",
   "pygments_lexer": "ipython3",
   "version": "3.12.1"
  }
 },
 "nbformat": 4,
 "nbformat_minor": 2
}
