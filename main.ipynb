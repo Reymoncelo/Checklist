{
 "cells": [
  {
   "cell_type": "markdown",
   "metadata": {},
   "source": [
    "#### ⏰ Até 15/02 ⏰ 1ª FASE - EXTRAÇÃO DOS DADOS DA ESCALA DE SERVIÇO "
   ]
  },
  {
   "cell_type": "code",
   "execution_count": null,
   "metadata": {},
   "outputs": [],
   "source": [
    "from docx import Document\n",
    "import pandas as pd\n",
    "\n",
    "# função que abre e extrai todas as tabelas de um docx\n",
    "def extrairTabelas(caminhoDocx):\n",
    "    todasTabelas = []\n",
    "\n",
    "    doc = Document(caminhoDocx)\n",
    "    \n",
    "    for tabela_idx, tabela in enumerate(doc.tables):\n",
    "        tabelaAtual = []\n",
    "        \n",
    "        for row_idx, row in enumerate(tabela.rows):\n",
    "            cells = [cell.text.strip() for cell in row.cells]\n",
    "            tabelaAtual.append(cells)\n",
    "\n",
    "        todasTabelas.append(tabelaAtual)\n",
    "\n",
    "    return todasTabelas\n",
    "\n",
    "# coloca o nome do docx\n",
    "tabelas = extrairTabelas('17.02.2024 ESCALA DE SERVIÇO - SÁBADO.docx')\n",
    "\n",
    "# nomes das equipes de serviço para referenciar os dfs\n",
    "nomesEquipes = ['dias','cpu','sede','liberdade','alemanha','gtm']\n",
    "\n",
    "# cria o dicionário equipe-tabela a ser preenchido\n",
    "dfEquipe = {}\n",
    "\n",
    "# criação dos DataFrames a partir da extração em docx\n",
    "for idx, tabela in enumerate(tabelas):\n",
    "    if idx >= len(nomesEquipes):\n",
    "        novaEquipe = tabela[0][0][:15].lower()\n",
    "        nomesEquipes.append(novaEquipe)\n",
    "    dfEquipe[nomesEquipes[idx]] = pd.DataFrame(tabela)\n",
    "    display(dfEquipe[nomesEquipes[idx]])"
   ]
  },
  {
   "cell_type": "markdown",
   "metadata": {},
   "source": [
    "#### ⏰ Até 20/02 ⏰ 2ª FASE - EXTRAÇÃO DOS DADOS DO CHECKLIST "
   ]
  },
  {
   "cell_type": "code",
   "execution_count": null,
   "metadata": {},
   "outputs": [],
   "source": [
    "import gspread\n",
    "\n",
    "# armazenar JSON em local seguro após a fase de teste. Credenciais de Acesso por Conta de Serviço\n",
    "gc = gspread.service_account('./service_account.json')\n",
    "\n",
    "spreadsheet = gc.open_by_url('https://docs.google.com/spreadsheets/d/1k6Ugpr-XRiWQEFeNPEkGSODZW2vfx1m1r3GCNk8xnQo')\n",
    "\n",
    "colunasRelatorio = ['DATA/HORA CHECKLIST', 'NOME', 'ID', 'VTR/MT','TIPO']\n",
    "\n",
    "planilhaMotos = spreadsheet.get_worksheet(0)\n",
    "dadosMotos = pd.DataFrame(planilhaMotos.get_all_values()[-50:])\n",
    "dadosMotos = dadosMotos[[0,2,3,4,5]]\n",
    "dadosMotos.columns = colunasRelatorio\n",
    "display(dadosMotos)\n",
    "\n",
    "planilhaCarros = spreadsheet.get_worksheet(1)\n",
    "dadosCarros = pd.DataFrame(planilhaCarros.get_all_values()[-50:])\n",
    "dadosCarros = dadosCarros[[0,2,3,4,5]]\n",
    "dadosCarros.columns = colunasRelatorio\n",
    "display(dadosCarros)"
   ]
  },
  {
   "cell_type": "code",
   "execution_count": null,
   "metadata": {},
   "outputs": [],
   "source": [
    "inicioIntervalo = '17/02/2024 07:00:00'\n",
    "fimIntervalo = '18/02/2024 07:00:00'\n",
    "\n",
    "dadosMotosFiltrados = dadosMotos[(dadosMotos['DATA/HORA CHECKLIST'] >= inicioIntervalo) & (dadosMotos['DATA/HORA CHECKLIST'] <= fimIntervalo)]\n",
    "display(dadosMotosFiltrados)\n",
    "\n",
    "dadosCarrosFiltrados = dadosCarros[(dadosCarros['DATA/HORA CHECKLIST'] >= inicioIntervalo) & (dadosCarros['DATA/HORA CHECKLIST'] <= fimIntervalo)]\n",
    "display(dadosCarrosFiltrados)"
   ]
  },
  {
   "cell_type": "markdown",
   "metadata": {},
   "source": [
    "#### ⏰ Até 25/02 ⏰ 3ª FASE - COMPARAÇÃO DADOS DA ESCALA E CHECKLIST EXECUTADOS "
   ]
  },
  {
   "cell_type": "code",
   "execution_count": null,
   "metadata": {},
   "outputs": [],
   "source": [
    "dfRelatorio = pd.DataFrame(columns = colunasRelatorio)\n",
    "\n",
    "def exibirDados(valor, colunaId):\n",
    "    global dfRelatorio\n",
    "    \n",
    "    if valor in dadosCarrosFiltrados['ID'].values:\n",
    "        todaLinhaDado = dadosCarrosFiltrados.loc[dadosCarrosFiltrados['ID'] == valor]\n",
    "        equipeColuna = pd.DataFrame({'EQUIPE': [equipeAtual[colunaId][0].split('\\n')[0] + ' ' + equipeAtual[colunaId][1]]})\n",
    "        todaLinhaDado = todaLinhaDado.assign(EQUIPE=equipeColuna['EQUIPE'].iloc[0])\n",
    "        dfRelatorio = pd.concat([dfRelatorio, todaLinhaDado], ignore_index=True)\n",
    "        \n",
    "    elif valor in dadosMotosFiltrados['ID'].values:\n",
    "        todaLinhaDado = dadosMotosFiltrados.loc[dadosMotosFiltrados['ID'] == valor]\n",
    "        equipeColuna = pd.DataFrame({'EQUIPE': [equipeAtual[colunaId][0].split('\\n')[0] + ' ' + equipeAtual[colunaId][1]]})\n",
    "        todaLinhaDado = todaLinhaDado.assign(EQUIPE=equipeColuna['EQUIPE'].iloc[0])\n",
    "        dfRelatorio = pd.concat([dfRelatorio, todaLinhaDado], ignore_index=True)\n",
    "       \n",
    "    else:\n",
    "        pgNome = equipeAtual.loc[equipeAtual[colunaId] == valor][colunaId - 2].iloc[0] + ' ' + equipeAtual.loc[equipeAtual[colunaId] == valor][colunaId - 1].iloc[0]\n",
    "        guarnicao = equipeAtual[colunaId][0].split('\\n')[0] + ' ' + equipeAtual[colunaId][1] \n",
    "        dfRelatorio = pd.concat([dfRelatorio, pd.DataFrame({'DATA/HORA CHECKLIST': '-','NOME': [pgNome], 'ID': [valor], 'VTR/MT':'-', 'TIPO':'-', 'EQUIPE': [guarnicao] })], ignore_index = True)\n",
    "\n",
    "        \n",
    "def processarEquipe(equipeAtual, colunaId):\n",
    "    for valor in equipeAtual[colunaId][3:]:\n",
    "        exibirDados(valor, colunaId)\n",
    "\n",
    "\n",
    "\n",
    "for i in range(len(nomesEquipes)):\n",
    "    equipeAtual = dfEquipe[nomesEquipes[i]]\n",
    "    if nomesEquipes[i] not in ['dias', 'expediente admi', 'sede']:\n",
    "        processarEquipe(equipeAtual, 3)\n",
    "\n",
    "        if equipeAtual[3][1] == equipeAtual[8][1]:\n",
    "            processarEquipe(equipeAtual, 8)\n",
    "                               \n",
    "        else:\n",
    "            processarEquipe(equipeAtual, 8)\n",
    "\n",
    "display(dfRelatorio)\n",
    "           "
   ]
  },
  {
   "cell_type": "markdown",
   "metadata": {},
   "source": [
    "#### ⏰ Até 1ª/03 ⏰ 4ª FASE - RELATÓRIO AO CHEFE DA 4ª SEÇÃO "
   ]
  },
  {
   "cell_type": "code",
   "execution_count": null,
   "metadata": {},
   "outputs": [],
   "source": [
    "for equipeValor in dfRelatorio['EQUIPE'].unique():\n",
    "    cargaLoop = []\n",
    "    for i, linha in dfRelatorio[dfRelatorio['EQUIPE'] == equipeValor].iterrows():\n",
    "        if linha['VTR/MT'] == '-':\n",
    "            cargaLoop.append('Nada')\n",
    "        else:\n",
    "            cargaLoop.append(linha['VTR/MT'])\n",
    "            cargaLoop.append(linha['TIPO'])\n",
    "    display(cargaLoop)\n",
    "    print(f'Relatório da {equipeValor}')\n",
    "\n",
    "        "
   ]
  }
 ],
 "metadata": {
  "kernelspec": {
   "display_name": "Python 3",
   "language": "python",
   "name": "python3"
  },
  "language_info": {
   "codemirror_mode": {
    "name": "ipython",
    "version": 3
   },
   "file_extension": ".py",
   "mimetype": "text/x-python",
   "name": "python",
   "nbconvert_exporter": "python",
   "pygments_lexer": "ipython3",
   "version": "3.12.1"
  }
 },
 "nbformat": 4,
 "nbformat_minor": 2
}
