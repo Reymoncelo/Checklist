{
 "cells": [
  {
   "cell_type": "markdown",
   "metadata": {},
   "source": [
    "#### ⏰ Até 15/02 ⏰ 1ª FASE - EXTRAÇÃO DOS DADOS DA ESCALA DE SERVIÇO "
   ]
  },
  {
   "cell_type": "code",
   "execution_count": null,
   "metadata": {},
   "outputs": [],
   "source": [
    "from docx import Document\n",
    "import pandas as pd\n",
    "\n",
    "# função que abre e extrai todas as tabelas de um docx\n",
    "def extrairTabelas(caminhoDocx):\n",
    "    todasTabelas = []\n",
    "\n",
    "    doc = Document(caminhoDocx)\n",
    "    \n",
    "    for tabela_idx, tabela in enumerate(doc.tables):\n",
    "        tabelaAtual = []\n",
    "        \n",
    "        for row_idx, row in enumerate(tabela.rows):\n",
    "            cells = [cell.text.strip() for cell in row.cells]\n",
    "            tabelaAtual.append(cells)\n",
    "\n",
    "        todasTabelas.append(tabelaAtual)\n",
    "\n",
    "    return todasTabelas\n",
    "\n",
    "# coloca o nome do docx\n",
    "tabelas = extrairTabelas('17.02.2024 ESCALA DE SERVIÇO - SÁBADO.docx')\n",
    "\n",
    "# nomes das equipes de serviço para referenciar os dfs\n",
    "nomesEquipes = ['dias','cpu','sede','liberdade','alemanha','gtm']\n",
    "\n",
    "# cria o dicionário equipe-tabela a ser preenchido\n",
    "dfEquipe = {}\n",
    "\n",
    "# criação dos DataFrames a partir da extração em docx\n",
    "for idx, tabela in enumerate(tabelas):\n",
    "    if idx >= len(nomesEquipes):\n",
    "        novaEquipe = tabela[0][0][:15].lower()\n",
    "        nomesEquipes.append(novaEquipe)\n",
    "    dfEquipe[nomesEquipes[idx]] = pd.DataFrame(tabela)\n",
    "    display(dfEquipe[nomesEquipes[idx]])"
   ]
  },
  {
   "cell_type": "markdown",
   "metadata": {},
   "source": [
    "#### ⏰ Até 20/02 ⏰ 2ª FASE - EXTRAÇÃO DOS DADOS DO CHECKLIST "
   ]
  },
  {
   "cell_type": "code",
   "execution_count": null,
   "metadata": {},
   "outputs": [],
   "source": [
    "import gspread\n",
    "\n",
    "# armazenar JSON em local seguro após a fase de teste. Credenciais de Acesso por Conta de Serviço\n",
    "gc = gspread.service_account('./service_account.json')\n",
    "\n",
    "spreadsheet = gc.open_by_url('https://docs.google.com/spreadsheets/d/1k6Ugpr-XRiWQEFeNPEkGSODZW2vfx1m1r3GCNk8xnQo')\n",
    "\n",
    "planilhaMotos = spreadsheet.get_worksheet(0)\n",
    "dadosMotos = pd.DataFrame(planilhaMotos.get_all_values()[-100:])\n",
    "dadosMotos = dadosMotos[[0,2,3,4,5,6]]\n",
    "display(dadosMotos)\n",
    "\n",
    "planilhaCarros = spreadsheet.get_worksheet(1)\n",
    "dadosCarros = pd.DataFrame(planilhaCarros.get_all_values()[-100:])\n",
    "dadosCarros = dadosCarros[[0,2,3,4,5,6]]\n",
    "display(dadosCarros)"
   ]
  },
  {
   "cell_type": "code",
   "execution_count": null,
   "metadata": {},
   "outputs": [],
   "source": [
    "inicioIntervalo = '17/02/2024 07:00:00'\n",
    "fimIntervalo = '18/02/2024 07:00:00'\n",
    "\n",
    "dadosMotosFiltrados = dadosMotos[(dadosMotos[0] >= inicioIntervalo) & (dadosMotos[0] <= fimIntervalo)]\n",
    "display(dadosMotosFiltrados)\n",
    "\n",
    "dadosCarrosFiltrados = dadosCarros[(dadosCarros[0] >= inicioIntervalo) & (dadosCarros[0] <= fimIntervalo)]\n",
    "display(dadosMotosFiltrados)"
   ]
  },
  {
   "cell_type": "code",
   "execution_count": null,
   "metadata": {},
   "outputs": [],
   "source": [
    "def exibirDados(valor, linhaNome, colunaId):\n",
    "    if valor in dadosCarrosFiltrados[3].values:\n",
    "        display(dadosCarrosFiltrados.loc[dadosCarrosFiltrados[3] == valor])\n",
    "    elif valor in dadosMotosFiltrados[3].values:\n",
    "        display(dadosMotosFiltrados.loc[dadosMotosFiltrados[3] == valor])\n",
    "    else:\n",
    "        mensagem = equipeAtual.loc[equipeAtual[colunaId] == valor][linhaNome].iloc[0]\n",
    "        print(f'{mensagem} não fez checklist')\n",
    "        \n",
    "def processarEquipe(equipeAtual, colunaId, linhaNome, turno):\n",
    "    for valor in equipeAtual[colunaId][3:]:\n",
    "        exibirDados(valor, linhaNome, colunaId)\n",
    "\n",
    "\n",
    "\n",
    "for i in range(len(nomesEquipes)):\n",
    "    equipeAtual = dfEquipe[nomesEquipes[i]]\n",
    "    if nomesEquipes[i] not in ['dias', 'expediente admi', 'sede']:\n",
    "        processarEquipe(equipeAtual, 3, 2, '1ª Equipe')\n",
    "\n",
    "        if equipeAtual[3][1] == equipeAtual[8][1]:\n",
    "            processarEquipe(equipeAtual, 8, 7,'1ª Equipe')\n",
    "                               \n",
    "        else:\n",
    "            processarEquipe(equipeAtual, 8, 7, '2ª Equipe')\n",
    "           "
   ]
  },
  {
   "cell_type": "markdown",
   "metadata": {},
   "source": [
    "#### ⏰ Até 25/02 ⏰ 3ª FASE - COMPARAÇÃO DADOS DA ESCALA E CHECKLIST EXECUTADOS "
   ]
  },
  {
   "cell_type": "markdown",
   "metadata": {},
   "source": [
    "#### ⏰ Até 1ª/03 ⏰ 4ª FASE - RELATÓRIO AO CHEFE DA 4ª SEÇÃO "
   ]
  }
 ],
 "metadata": {
  "kernelspec": {
   "display_name": "Python 3",
   "language": "python",
   "name": "python3"
  },
  "language_info": {
   "codemirror_mode": {
    "name": "ipython",
    "version": 3
   },
   "file_extension": ".py",
   "mimetype": "text/x-python",
   "name": "python",
   "nbconvert_exporter": "python",
   "pygments_lexer": "ipython3",
   "version": "3.12.1"
  }
 },
 "nbformat": 4,
 "nbformat_minor": 2
}
