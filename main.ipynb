{
 "cells": [
  {
   "cell_type": "markdown",
   "metadata": {},
   "source": [
    "# verificar as equipes na escala de serviço e horários"
   ]
  },
  {
   "cell_type": "code",
   "execution_count": null,
   "metadata": {},
   "outputs": [],
   "source": [
    "import tabula\n",
    "lista_tabelas = tabula.read_pdf(\"EscalaServico.pdf\", pages=\"all\")\n",
    "print(len(lista_tabelas))\n",
    "for tabela in lista_tabelas:\n",
    "    display(tabela)\n"
   ]
  },
  {
   "cell_type": "code",
   "execution_count": null,
   "metadata": {},
   "outputs": [],
   "source": [
    "import tabula\n",
    "lista_tabelas = tabula.read_pdf(\"EscalaServico.pdf\", pages=\"all\")\n",
    "print(len(lista_tabelas))\n",
    "for tabela in lista_tabelas:\n",
    "    display(tabela)\n"
   ]
  }
 ],
 "metadata": {
  "kernelspec": {
   "display_name": "Python 3",
   "language": "python",
   "name": "python3"
  },
  "language_info": {
   "codemirror_mode": {
    "name": "ipython",
    "version": 3
   },
   "file_extension": ".py",
   "mimetype": "text/x-python",
   "name": "python",
   "nbconvert_exporter": "python",
   "pygments_lexer": "ipython3",
   "version": "3.12.1"
  }
 },
 "nbformat": 4,
 "nbformat_minor": 2
}
